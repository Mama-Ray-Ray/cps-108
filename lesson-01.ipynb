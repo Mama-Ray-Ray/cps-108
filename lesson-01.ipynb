{
 "cells": [
  {
   "cell_type": "markdown",
   "metadata": {},
   "source": [
    "# Lesson 1\n",
    "\n",
    "Congratulations on making it this far!\n",
    "If you have this file open as a Notebook in VS Code,\n",
    "you have overcome several hurdles.\n",
    "\n",
    "* You have launched VS Code on a machine where it is installed.\n",
    "* You have cloned the `2020-cps-108` GitHub repository,\n",
    "  where this lesson lives,\n",
    "  to your `K:` drive.\n",
    "* You have successfully installed\n",
    "  the Python Extension for Visual Studio Code\n",
    "  and it recognized this file as a Notebook.\n",
    "\n",
    "You can create cells in this notebook,\n",
    "type Python code,\n",
    "and then run it to see its output."
   ]
  },
  {
   "cell_type": "code",
   "execution_count": 1,
   "metadata": {
    "tags": []
   },
   "outputs": [
    {
     "output_type": "stream",
     "name": "stdout",
     "text": "\u001b[32m┌─────────────────────┐\n│ Welcome to lesson 1 │\n└─────────────────────┘\u001b[0m"
    }
   ],
   "source": [
    "from course_engine import start_lesson\n",
    "start_lesson(1)\n"
   ]
  },
  {
   "cell_type": "code",
   "execution_count": null,
   "metadata": {},
   "outputs": [],
   "source": []
  }
 ],
 "metadata": {
  "kernelspec": {
   "display_name": "Python 3.8.5 64-bit",
   "language": "python",
   "name": "python_defaultSpec_1598626904635"
  },
  "language_info": {
   "codemirror_mode": {
    "name": "ipython",
    "version": 3
   },
   "file_extension": ".py",
   "mimetype": "text/x-python",
   "name": "python",
   "nbconvert_exporter": "python",
   "pygments_lexer": "ipython3",
   "version": "3.8.5-final"
  }
 },
 "nbformat": 4,
 "nbformat_minor": 4
}