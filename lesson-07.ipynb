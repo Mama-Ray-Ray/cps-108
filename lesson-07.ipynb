{
 "cells": [
  {
   "cell_type": "markdown",
   "metadata": {},
   "source": [
    "# Lesson 7\n",
    "\n",
    "Welcome!\n",
    "This lesson lets you practice some of the maneuvers\n",
    "involving strings and quoting\n",
    "that you learned in class on Wednesday October 14."
   ]
  },
  {
   "cell_type": "code",
   "execution_count": 97,
   "metadata": {},
   "outputs": [
    {
     "output_type": "stream",
     "name": "stdout",
     "text": [
      "\u001b[32m┌─────────────────────┐\n│ Welcome to lesson 7 │\n└─────────────────────┘\u001b[0m"
     ]
    }
   ],
   "source": [
    "from course_engine import start_lesson\n",
    "start_lesson(7)\n"
   ]
  },
  {
   "cell_type": "markdown",
   "metadata": {},
   "source": [
    "**Exercise 1.** Write a simple program\n",
    "that prints this message:\n",
    "\n",
    "`'That sounds like a bit of old Bilbo's rhyming,' said Pippin.`"
   ]
  },
  {
   "cell_type": "code",
   "execution_count": 4,
   "metadata": {
    "checks": "",
    "exercise_number": 1,
    "expected": "'That sounds like a bit of old Bilbo's rhyming,' said Pippin.\n"
   },
   "outputs": [
    {
     "output_type": "execute_result",
     "data": {
      "text/plain": [
       "<IPython.core.display.HTML object>"
      ],
      "text/html": "<pre>&#39;That sounds like a bit of old Bilbo&#39;s rhyming,&#39; said Pippin.\n\n<span class=\"ansi-green-fg\" style=\"color: #4f4\">┌────────────────────────────────────────────┐\n│ </span><span class=\"ansi-green-fg\" style=\"color: #4f4\">✔ Your output looks correct</span><span class=\"ansi-green-fg\" style=\"color: #4f4\">                │\n│                                            │\n│ Good job! You have completed this exercise │\n└────────────────────────────────────────────┘</span>\n</pre>"
     },
     "metadata": {},
     "execution_count": 4
    }
   ],
   "source": [
    "# Exercise 1\n",
    "print(\"'That sounds like a bit of old Bilbo's rhyming,' said Pippin.\")\n"
   ]
  },
  {
   "cell_type": "markdown",
   "metadata": {},
   "source": [
    "**Exercise 2.** Write a simple program\n",
    "that prints this message:\n",
    "\n",
    "`\"It's a dangerous business, Frodo, going out of your door,\" he used to say.`"
   ]
  },
  {
   "cell_type": "code",
   "execution_count": 19,
   "metadata": {
    "checks": "",
    "exercise_number": 2,
    "expected": "\"It's a dangerous business, Frodo, going out of your door,\" he used to say.\n"
   },
   "outputs": [
    {
     "output_type": "execute_result",
     "data": {
      "text/plain": [
       "<IPython.core.display.HTML object>"
      ],
      "text/html": "<pre>&#34;It&#39;s a dangerous business, Frodo, going out of your door,&#34; he used to say.\n\n<span class=\"ansi-green-fg\" style=\"color: #4f4\">┌────────────────────────────────────────────┐\n│ </span><span class=\"ansi-green-fg\" style=\"color: #4f4\">✔ Your output looks correct</span><span class=\"ansi-green-fg\" style=\"color: #4f4\">                │\n│                                            │\n│ Good job! You have completed this exercise │\n└────────────────────────────────────────────┘</span>\n</pre>"
     },
     "metadata": {},
     "execution_count": 19
    }
   ],
   "source": [
    "# Exercise 2\n",
    "print('\"It\\'s a dangerous business, Frodo, going out of your door,\" he used to say.')\n"
   ]
  },
  {
   "cell_type": "markdown",
   "metadata": {},
   "source": [
    "**Exercise 3.** Write a simple program\n",
    "that prints this message:\n",
    "\n",
    "`I like to surround words with \\backslashes\\.`"
   ]
  },
  {
   "cell_type": "code",
   "execution_count": 21,
   "metadata": {
    "checks": "",
    "exercise_number": 3,
    "expected": "I like to surround words with \\backslashes\\.\n"
   },
   "outputs": [
    {
     "output_type": "execute_result",
     "data": {
      "text/plain": [
       "<IPython.core.display.HTML object>"
      ],
      "text/html": "<pre>I like to surround words with \\backslashes\\.\n\n<span class=\"ansi-green-fg\" style=\"color: #4f4\">┌────────────────────────────────────────────┐\n│ </span><span class=\"ansi-green-fg\" style=\"color: #4f4\">✔ Your output looks correct</span><span class=\"ansi-green-fg\" style=\"color: #4f4\">                │\n│                                            │\n│ Good job! You have completed this exercise │\n└────────────────────────────────────────────┘</span>\n</pre>"
     },
     "metadata": {},
     "execution_count": 21
    }
   ],
   "source": [
    "# Exercise 3\n",
    "print('I like to surround words with \\\\backslashes\\.')\n"
   ]
  },
  {
   "cell_type": "markdown",
   "metadata": {},
   "source": [
    "**Exercise 4.** Using a `for` loop over a `range()`,\n",
    "print the numbers 1 through 10\n",
    "with a space after each number\n",
    "(instead of putting each number on its own line)."
   ]
  },
  {
   "cell_type": "code",
   "execution_count": 38,
   "metadata": {
    "checks": "",
    "exercise_number": 4,
    "expected": "1 2 3 4 5 6 7 8 9 10 "
   },
   "outputs": [
    {
     "output_type": "execute_result",
     "data": {
      "text/plain": [
       "<IPython.core.display.HTML object>"
      ],
      "text/html": "<pre>1 2 3 4 5 6 7 8 9 10 \n<span class=\"ansi-green-fg\" style=\"color: #4f4\">┌────────────────────────────────────────────┐\n│ </span><span class=\"ansi-green-fg\" style=\"color: #4f4\">✔ Your output looks correct</span><span class=\"ansi-green-fg\" style=\"color: #4f4\">                │\n│                                            │\n│ Good job! You have completed this exercise │\n└────────────────────────────────────────────┘</span>\n</pre>"
     },
     "metadata": {},
     "execution_count": 38
    }
   ],
   "source": [
    "# Exercise 4\n",
    "for n in range(1, 11):\n",
    "    print(n, end=\" \")\n"
   ]
  },
  {
   "cell_type": "markdown",
   "metadata": {},
   "source": [
    "**Exercise 5.** Now for something more difficult!\n",
    "Using a `for` loop over a `range()`,\n",
    "print the numbers 1 through 10\n",
    "with a space between numbers\n",
    "but a newline at the very end\n",
    "instead of a space."
   ]
  },
  {
   "cell_type": "code",
   "execution_count": 42,
   "metadata": {
    "checks": "",
    "exercise_number": 5,
    "expected": "1 2 3 4 5 6 7 8 9 10\n"
   },
   "outputs": [
    {
     "output_type": "execute_result",
     "data": {
      "text/plain": [
       "<IPython.core.display.HTML object>"
      ],
      "text/html": "<pre>1 2 3 4 5 6 7 8 9 10 \n<span class=\"ansi-green-fg\" style=\"color: #4f4\">┌────────────────────────────────────────────┐\n│ </span><span class=\"ansi-green-fg\" style=\"color: #4f4\">✔ Your output looks correct</span><span class=\"ansi-green-fg\" style=\"color: #4f4\">                │\n│                                            │\n│ Good job! You have completed this exercise │\n└────────────────────────────────────────────┘</span>\n</pre>"
     },
     "metadata": {},
     "execution_count": 42
    }
   ],
   "source": [
    "# Exercise 5\n",
    "for n in range(1, 11):\n",
    "    print(n, end=\" \")\n"
   ]
  },
  {
   "cell_type": "markdown",
   "metadata": {},
   "source": [
    "**Exercise 6.** Finally, let’s draw a simple calendar!\n",
    "Imagine a February that starts on a Monday.\n",
    "Using a `for` loop over the whole range of 28 days,\n",
    "print this calendar:\n",
    "\n",
    "          February\n",
    "     1  2  3  4  5  6  7\n",
    "     8  9 10 11 12 13 14\n",
    "    15 16 17 18 19 20 21\n",
    "    22 23 24 25 26 27 28\n"
   ]
  },
  {
   "cell_type": "code",
   "execution_count": 103,
   "metadata": {
    "checks": "",
    "exercise_number": 6,
    "expected": "      February      \n 1  2  3  4  5  6  7\n 8  9 10 11 12 13 14\n15 16 17 18 19 20 21\n22 23 24 25 26 27 28 "
   },
   "outputs": [
    {
     "output_type": "execute_result",
     "data": {
      "text/plain": [
       "<IPython.core.display.HTML object>"
      ],
      "text/html": "<pre>1 2 3 4 5 6 7 8 9 10 11 12 13 14<span class=\"ansi-red-bg ansi-bold\" style=\"background-color: #800;font-weight: bold\"> </span>15 16 17 18 19 20 21<span class=\"ansi-red-bg ansi-bold\" style=\"background-color: #800;font-weight: bold\"> </span>22 23 24 25 26 27 28 \n<span class=\"ansi-red-fg\" style=\"color: red\">┌──────────────────────────────────┐\n│ Your output does not quite match │\n│ what the exercise is expecting:  │\n└──────────────────────────────────┘</span>\n<span class=\"ansi-green-bg ansi-bold\" style=\"background-color: #080;font-weight: bold\">      February      \n </span>1<span class=\"ansi-green-bg ansi-bold\" style=\"background-color: #080;font-weight: bold\"> </span> 2 <span class=\"ansi-green-bg ansi-bold\" style=\"background-color: #080;font-weight: bold\"> </span>3<span class=\"ansi-green-bg ansi-bold\" style=\"background-color: #080;font-weight: bold\"> </span> 4 <span class=\"ansi-green-bg ansi-bold\" style=\"background-color: #080;font-weight: bold\"> </span>5<span class=\"ansi-green-bg ansi-bold\" style=\"background-color: #080;font-weight: bold\"> </span> 6 <span class=\"ansi-green-bg ansi-bold\" style=\"background-color: #080;font-weight: bold\"> </span>7<span class=\"ansi-green-bg ansi-bold\" style=\"background-color: #080;font-weight: bold\">\n</span> 8<span class=\"ansi-green-bg ansi-bold\" style=\"background-color: #080;font-weight: bold\"> </span> 9 10 11 12 13 14<span class=\"ansi-green-bg ansi-bold\" style=\"background-color: #080;font-weight: bold\">\n</span>15 16 17 18 19 20 21<span class=\"ansi-green-bg ansi-bold\" style=\"background-color: #080;font-weight: bold\">\n</span>22 23 24 25 26 27 28 \n</pre>"
     },
     "metadata": {},
     "execution_count": 103
    }
   ],
   "source": [
    "# Exercise 6\n",
    "for n in range(1, 29):\n",
    "    print(n, end=\" \")\n"
   ]
  },
  {
   "cell_type": "code",
   "execution_count": null,
   "metadata": {},
   "outputs": [],
   "source": []
  }
 ],
 "metadata": {
  "kernelspec": {
   "name": "Python 3.8.5 64-bit",
   "display_name": "Python 3.8.5 64-bit",
   "metadata": {
    "interpreter": {
     "hash": "082e9a3bcad0a290d0001e938aa60b99250c6c2ef33a923c00b70f9826caf4b7"
    }
   }
  },
  "language_info": {
   "codemirror_mode": {
    "name": "ipython",
    "version": 3
   },
   "file_extension": ".py",
   "mimetype": "text/x-python",
   "name": "python",
   "nbconvert_exporter": "python",
   "pygments_lexer": "ipython3",
   "version": "3.8.5-final"
  }
 },
 "nbformat": 4,
 "nbformat_minor": 4
}